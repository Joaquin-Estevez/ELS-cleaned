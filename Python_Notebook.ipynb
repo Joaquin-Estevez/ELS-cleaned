{
 "cells": [
  {
   "cell_type": "markdown",
   "id": "3f3370ed-25cf-403b-8770-82015869e135",
   "metadata": {},
   "source": [
    "DATASET: has 4012 columns and 16197 rows"
   ]
  },
  {
   "cell_type": "markdown",
   "id": "b06163a4-59b4-4f44-b71f-cae3194e3cae",
   "metadata": {},
   "source": [
    "Import Packages"
   ]
  },
  {
   "cell_type": "code",
   "execution_count": 1,
   "id": "4a4cbded-a539-497f-ad76-3d0a607cda4a",
   "metadata": {},
   "outputs": [],
   "source": [
    "import pandas as pd"
   ]
  },
  {
   "cell_type": "markdown",
   "id": "4eb5290a-bcad-48c7-923f-f7406a0d34b0",
   "metadata": {},
   "source": [
    "Load File"
   ]
  },
  {
   "cell_type": "code",
   "execution_count": 18,
   "id": "b24bc9ed-75b2-4990-86ae-9c92adf64c92",
   "metadata": {},
   "outputs": [
    {
     "name": "stderr",
     "output_type": "stream",
     "text": [
      "C:\\Users\\LaptopUser\\AppData\\Local\\Temp\\ipykernel_13708\\3654065876.py:2: DtypeWarning: Columns (1222) have mixed types. Specify dtype option on import or set low_memory=False.\n",
      "  df = pd.read_csv(file_path)\n"
     ]
    }
   ],
   "source": [
    "file_path = \"data/els_02_12_byf3pststu_v1_0.csv\"  \n",
    "df = pd.read_csv(file_path)"
   ]
  },
  {
   "cell_type": "markdown",
   "id": "f5dab742-72a9-40cf-b094-ce589a979d83",
   "metadata": {},
   "source": [
    "DATA PREPROCESSING:"
   ]
  },
  {
   "cell_type": "markdown",
   "id": "2a9d97a8-f717-42d2-863a-90444d6f10e1",
   "metadata": {},
   "source": [
    "1- Remove N/A values"
   ]
  },
  {
   "cell_type": "code",
   "execution_count": 19,
   "id": "f769d051-89d5-4175-89f7-9d1044a3d872",
   "metadata": {},
   "outputs": [],
   "source": [
    "# Remove rows with missing values\n",
    "df = df.dropna()"
   ]
  },
  {
   "cell_type": "markdown",
   "id": "dcff530b-807c-4118-b08e-9b011fe28e6b",
   "metadata": {},
   "source": [
    "2- Remove vars from F2, F3, and F1 transfers"
   ]
  },
  {
   "cell_type": "code",
   "execution_count": 20,
   "id": "7288a511-4a6b-46b3-90f7-fc0e37de031c",
   "metadata": {},
   "outputs": [],
   "source": [
    "# Remove columns starting with \"F2\", \"F3\", or \"F1T\"\n",
    "df = df.filter(regex='^(?!F2|F3|F1T)')"
   ]
  },
  {
   "cell_type": "markdown",
   "id": "71e5ae65-de4c-42d8-9011-1e4bfbbdf740",
   "metadata": {},
   "source": [
    "3- Remove complementary dropout vars"
   ]
  },
  {
   "cell_type": "code",
   "execution_count": 21,
   "id": "7416f865-65d4-488b-9b42-4424d8d70639",
   "metadata": {},
   "outputs": [],
   "source": [
    "# Step 3: Remove columns related to dropout programs (F1A24)\n",
    "columns_to_remove = [\"F1A24\" + letter for letter in list(\"ABCDEFG\")]\n",
    "df = df.drop(columns=columns_to_remove)"
   ]
  },
  {
   "cell_type": "markdown",
   "id": "2b0912fd-2b76-469f-9023-50cfc96d32d8",
   "metadata": {},
   "source": [
    "4- Remove complementary dropout vars"
   ]
  },
  {
   "cell_type": "code",
   "execution_count": 22,
   "id": "f18f1a74-197a-4761-91f2-0e339493db7b",
   "metadata": {},
   "outputs": [],
   "source": [
    "# Step 4: Remove columns related to dropout programs (F1A24)\n",
    "columns_to_remove = [\"F1A25\" + letter for letter in list(\"ABCDEFGHI\")]\n",
    "df = df.drop(columns=columns_to_remove)"
   ]
  },
  {
   "cell_type": "markdown",
   "id": "1eed8b66-f593-4989-9271-4274ff5af946",
   "metadata": {},
   "source": [
    "5- Remove transfer vars"
   ]
  },
  {
   "cell_type": "code",
   "execution_count": 23,
   "id": "e9b1db52-7932-4088-a74d-9743f68517a4",
   "metadata": {},
   "outputs": [],
   "source": [
    "# Remove Transfer vars\n",
    "df = df.drop(columns=[\"F1DOSTAT\"])"
   ]
  },
  {
   "cell_type": "markdown",
   "id": "7c507337-c45a-41d4-ae48-afb72f6575fc",
   "metadata": {},
   "source": [
    "6- Remove negative values by N/A"
   ]
  },
  {
   "cell_type": "code",
   "execution_count": 24,
   "id": "342dfca8-ad66-434e-aaae-948c9281c04c",
   "metadata": {
    "scrolled": true
   },
   "outputs": [
    {
     "name": "stderr",
     "output_type": "stream",
     "text": [
      "C:\\Users\\LaptopUser\\AppData\\Local\\Temp\\ipykernel_13708\\3866352115.py:2: FutureWarning: DataFrame.applymap has been deprecated. Use DataFrame.map instead.\n",
      "  df = df.applymap(lambda x: pd.NA if x < 0 else x)\n"
     ]
    }
   ],
   "source": [
    "# Replace negative values with NA\n",
    "df = df.applymap(lambda x: pd.NA if x < 0 else x)"
   ]
  },
  {
   "cell_type": "markdown",
   "id": "e7cd3ce5-fa14-4e40-84e1-d7a772e90379",
   "metadata": {},
   "source": [
    "7- Remove columns where all rows have the same value"
   ]
  },
  {
   "cell_type": "code",
   "execution_count": 25,
   "id": "a8b0dac1-bddc-40c5-a297-ed13a6cc2f93",
   "metadata": {},
   "outputs": [],
   "source": [
    "# Remove columns where all rows have the same value\n",
    "df = df.loc[:, df.nunique(dropna=True) > 1]"
   ]
  },
  {
   "cell_type": "markdown",
   "id": "e07a26fd-3ce8-4e1e-b05e-d1e23b127f01",
   "metadata": {},
   "source": [
    "8- Remove unnecessary columns"
   ]
  },
  {
   "cell_type": "code",
   "execution_count": 29,
   "id": "d4ea4c17-042b-4349-8329-54801645d714",
   "metadata": {
    "scrolled": true
   },
   "outputs": [
    {
     "ename": "KeyError",
     "evalue": "\"['STU_ID', 'STRAT_ID', 'PSU', 'F1UNIV1', 'F1UNIV2A', 'F1UNIV2B', 'G10COHRT', 'G12COHRT', 'BYSQSTAT', 'BYREGCTL', 'BYSTLNG2', 'F1QSTAT'] not found in axis\"",
     "output_type": "error",
     "traceback": [
      "\u001b[1;31m---------------------------------------------------------------------------\u001b[0m",
      "\u001b[1;31mKeyError\u001b[0m                                  Traceback (most recent call last)",
      "Cell \u001b[1;32mIn[29], line 3\u001b[0m\n\u001b[0;32m      1\u001b[0m \u001b[38;5;66;03m# Remove specific columns\u001b[39;00m\n\u001b[0;32m      2\u001b[0m columns_to_remove \u001b[38;5;241m=\u001b[39m [\u001b[38;5;124m\"\u001b[39m\u001b[38;5;124mSTU_ID\u001b[39m\u001b[38;5;124m\"\u001b[39m, \u001b[38;5;124m\"\u001b[39m\u001b[38;5;124mSTRAT_ID\u001b[39m\u001b[38;5;124m\"\u001b[39m, \u001b[38;5;124m\"\u001b[39m\u001b[38;5;124mPSU\u001b[39m\u001b[38;5;124m\"\u001b[39m, \u001b[38;5;124m\"\u001b[39m\u001b[38;5;124mF1UNIV1\u001b[39m\u001b[38;5;124m\"\u001b[39m, \u001b[38;5;124m\"\u001b[39m\u001b[38;5;124mF1UNIV2A\u001b[39m\u001b[38;5;124m\"\u001b[39m, \u001b[38;5;124m\"\u001b[39m\u001b[38;5;124mF1UNIV2B\u001b[39m\u001b[38;5;124m\"\u001b[39m, \u001b[38;5;124m\"\u001b[39m\u001b[38;5;124mG10COHRT\u001b[39m\u001b[38;5;124m\"\u001b[39m, \u001b[38;5;124m\"\u001b[39m\u001b[38;5;124mG12COHRT\u001b[39m\u001b[38;5;124m\"\u001b[39m, \u001b[38;5;124m\"\u001b[39m\u001b[38;5;124mBYSQSTAT\u001b[39m\u001b[38;5;124m\"\u001b[39m, \u001b[38;5;124m\"\u001b[39m\u001b[38;5;124mBYREGCTL\u001b[39m\u001b[38;5;124m\"\u001b[39m, \u001b[38;5;124m\"\u001b[39m\u001b[38;5;124mBYSTLNG2\u001b[39m\u001b[38;5;124m\"\u001b[39m, \u001b[38;5;124m\"\u001b[39m\u001b[38;5;124mF1QSTAT\u001b[39m\u001b[38;5;124m\"\u001b[39m]\n\u001b[1;32m----> 3\u001b[0m df \u001b[38;5;241m=\u001b[39m \u001b[43mdf\u001b[49m\u001b[38;5;241;43m.\u001b[39;49m\u001b[43mdrop\u001b[49m\u001b[43m(\u001b[49m\u001b[43mcolumns\u001b[49m\u001b[38;5;241;43m=\u001b[39;49m\u001b[43mcolumns_to_remove\u001b[49m\u001b[43m)\u001b[49m\n",
      "File \u001b[1;32m~\\ELS\\venv\\Lib\\site-packages\\pandas\\core\\frame.py:5581\u001b[0m, in \u001b[0;36mDataFrame.drop\u001b[1;34m(self, labels, axis, index, columns, level, inplace, errors)\u001b[0m\n\u001b[0;32m   5433\u001b[0m \u001b[38;5;28;01mdef\u001b[39;00m \u001b[38;5;21mdrop\u001b[39m(\n\u001b[0;32m   5434\u001b[0m     \u001b[38;5;28mself\u001b[39m,\n\u001b[0;32m   5435\u001b[0m     labels: IndexLabel \u001b[38;5;241m|\u001b[39m \u001b[38;5;28;01mNone\u001b[39;00m \u001b[38;5;241m=\u001b[39m \u001b[38;5;28;01mNone\u001b[39;00m,\n\u001b[1;32m   (...)\u001b[0m\n\u001b[0;32m   5442\u001b[0m     errors: IgnoreRaise \u001b[38;5;241m=\u001b[39m \u001b[38;5;124m\"\u001b[39m\u001b[38;5;124mraise\u001b[39m\u001b[38;5;124m\"\u001b[39m,\n\u001b[0;32m   5443\u001b[0m ) \u001b[38;5;241m-\u001b[39m\u001b[38;5;241m>\u001b[39m DataFrame \u001b[38;5;241m|\u001b[39m \u001b[38;5;28;01mNone\u001b[39;00m:\n\u001b[0;32m   5444\u001b[0m \u001b[38;5;250m    \u001b[39m\u001b[38;5;124;03m\"\"\"\u001b[39;00m\n\u001b[0;32m   5445\u001b[0m \u001b[38;5;124;03m    Drop specified labels from rows or columns.\u001b[39;00m\n\u001b[0;32m   5446\u001b[0m \n\u001b[1;32m   (...)\u001b[0m\n\u001b[0;32m   5579\u001b[0m \u001b[38;5;124;03m            weight  1.0     0.8\u001b[39;00m\n\u001b[0;32m   5580\u001b[0m \u001b[38;5;124;03m    \"\"\"\u001b[39;00m\n\u001b[1;32m-> 5581\u001b[0m     \u001b[38;5;28;01mreturn\u001b[39;00m \u001b[38;5;28;43msuper\u001b[39;49m\u001b[43m(\u001b[49m\u001b[43m)\u001b[49m\u001b[38;5;241;43m.\u001b[39;49m\u001b[43mdrop\u001b[49m\u001b[43m(\u001b[49m\n\u001b[0;32m   5582\u001b[0m \u001b[43m        \u001b[49m\u001b[43mlabels\u001b[49m\u001b[38;5;241;43m=\u001b[39;49m\u001b[43mlabels\u001b[49m\u001b[43m,\u001b[49m\n\u001b[0;32m   5583\u001b[0m \u001b[43m        \u001b[49m\u001b[43maxis\u001b[49m\u001b[38;5;241;43m=\u001b[39;49m\u001b[43maxis\u001b[49m\u001b[43m,\u001b[49m\n\u001b[0;32m   5584\u001b[0m \u001b[43m        \u001b[49m\u001b[43mindex\u001b[49m\u001b[38;5;241;43m=\u001b[39;49m\u001b[43mindex\u001b[49m\u001b[43m,\u001b[49m\n\u001b[0;32m   5585\u001b[0m \u001b[43m        \u001b[49m\u001b[43mcolumns\u001b[49m\u001b[38;5;241;43m=\u001b[39;49m\u001b[43mcolumns\u001b[49m\u001b[43m,\u001b[49m\n\u001b[0;32m   5586\u001b[0m \u001b[43m        \u001b[49m\u001b[43mlevel\u001b[49m\u001b[38;5;241;43m=\u001b[39;49m\u001b[43mlevel\u001b[49m\u001b[43m,\u001b[49m\n\u001b[0;32m   5587\u001b[0m \u001b[43m        \u001b[49m\u001b[43minplace\u001b[49m\u001b[38;5;241;43m=\u001b[39;49m\u001b[43minplace\u001b[49m\u001b[43m,\u001b[49m\n\u001b[0;32m   5588\u001b[0m \u001b[43m        \u001b[49m\u001b[43merrors\u001b[49m\u001b[38;5;241;43m=\u001b[39;49m\u001b[43merrors\u001b[49m\u001b[43m,\u001b[49m\n\u001b[0;32m   5589\u001b[0m \u001b[43m    \u001b[49m\u001b[43m)\u001b[49m\n",
      "File \u001b[1;32m~\\ELS\\venv\\Lib\\site-packages\\pandas\\core\\generic.py:4788\u001b[0m, in \u001b[0;36mNDFrame.drop\u001b[1;34m(self, labels, axis, index, columns, level, inplace, errors)\u001b[0m\n\u001b[0;32m   4786\u001b[0m \u001b[38;5;28;01mfor\u001b[39;00m axis, labels \u001b[38;5;129;01min\u001b[39;00m axes\u001b[38;5;241m.\u001b[39mitems():\n\u001b[0;32m   4787\u001b[0m     \u001b[38;5;28;01mif\u001b[39;00m labels \u001b[38;5;129;01mis\u001b[39;00m \u001b[38;5;129;01mnot\u001b[39;00m \u001b[38;5;28;01mNone\u001b[39;00m:\n\u001b[1;32m-> 4788\u001b[0m         obj \u001b[38;5;241m=\u001b[39m \u001b[43mobj\u001b[49m\u001b[38;5;241;43m.\u001b[39;49m\u001b[43m_drop_axis\u001b[49m\u001b[43m(\u001b[49m\u001b[43mlabels\u001b[49m\u001b[43m,\u001b[49m\u001b[43m \u001b[49m\u001b[43maxis\u001b[49m\u001b[43m,\u001b[49m\u001b[43m \u001b[49m\u001b[43mlevel\u001b[49m\u001b[38;5;241;43m=\u001b[39;49m\u001b[43mlevel\u001b[49m\u001b[43m,\u001b[49m\u001b[43m \u001b[49m\u001b[43merrors\u001b[49m\u001b[38;5;241;43m=\u001b[39;49m\u001b[43merrors\u001b[49m\u001b[43m)\u001b[49m\n\u001b[0;32m   4790\u001b[0m \u001b[38;5;28;01mif\u001b[39;00m inplace:\n\u001b[0;32m   4791\u001b[0m     \u001b[38;5;28mself\u001b[39m\u001b[38;5;241m.\u001b[39m_update_inplace(obj)\n",
      "File \u001b[1;32m~\\ELS\\venv\\Lib\\site-packages\\pandas\\core\\generic.py:4830\u001b[0m, in \u001b[0;36mNDFrame._drop_axis\u001b[1;34m(self, labels, axis, level, errors, only_slice)\u001b[0m\n\u001b[0;32m   4828\u001b[0m         new_axis \u001b[38;5;241m=\u001b[39m axis\u001b[38;5;241m.\u001b[39mdrop(labels, level\u001b[38;5;241m=\u001b[39mlevel, errors\u001b[38;5;241m=\u001b[39merrors)\n\u001b[0;32m   4829\u001b[0m     \u001b[38;5;28;01melse\u001b[39;00m:\n\u001b[1;32m-> 4830\u001b[0m         new_axis \u001b[38;5;241m=\u001b[39m \u001b[43maxis\u001b[49m\u001b[38;5;241;43m.\u001b[39;49m\u001b[43mdrop\u001b[49m\u001b[43m(\u001b[49m\u001b[43mlabels\u001b[49m\u001b[43m,\u001b[49m\u001b[43m \u001b[49m\u001b[43merrors\u001b[49m\u001b[38;5;241;43m=\u001b[39;49m\u001b[43merrors\u001b[49m\u001b[43m)\u001b[49m\n\u001b[0;32m   4831\u001b[0m     indexer \u001b[38;5;241m=\u001b[39m axis\u001b[38;5;241m.\u001b[39mget_indexer(new_axis)\n\u001b[0;32m   4833\u001b[0m \u001b[38;5;66;03m# Case for non-unique axis\u001b[39;00m\n\u001b[0;32m   4834\u001b[0m \u001b[38;5;28;01melse\u001b[39;00m:\n",
      "File \u001b[1;32m~\\ELS\\venv\\Lib\\site-packages\\pandas\\core\\indexes\\base.py:7070\u001b[0m, in \u001b[0;36mIndex.drop\u001b[1;34m(self, labels, errors)\u001b[0m\n\u001b[0;32m   7068\u001b[0m \u001b[38;5;28;01mif\u001b[39;00m mask\u001b[38;5;241m.\u001b[39many():\n\u001b[0;32m   7069\u001b[0m     \u001b[38;5;28;01mif\u001b[39;00m errors \u001b[38;5;241m!=\u001b[39m \u001b[38;5;124m\"\u001b[39m\u001b[38;5;124mignore\u001b[39m\u001b[38;5;124m\"\u001b[39m:\n\u001b[1;32m-> 7070\u001b[0m         \u001b[38;5;28;01mraise\u001b[39;00m \u001b[38;5;167;01mKeyError\u001b[39;00m(\u001b[38;5;124mf\u001b[39m\u001b[38;5;124m\"\u001b[39m\u001b[38;5;132;01m{\u001b[39;00mlabels[mask]\u001b[38;5;241m.\u001b[39mtolist()\u001b[38;5;132;01m}\u001b[39;00m\u001b[38;5;124m not found in axis\u001b[39m\u001b[38;5;124m\"\u001b[39m)\n\u001b[0;32m   7071\u001b[0m     indexer \u001b[38;5;241m=\u001b[39m indexer[\u001b[38;5;241m~\u001b[39mmask]\n\u001b[0;32m   7072\u001b[0m \u001b[38;5;28;01mreturn\u001b[39;00m \u001b[38;5;28mself\u001b[39m\u001b[38;5;241m.\u001b[39mdelete(indexer)\n",
      "\u001b[1;31mKeyError\u001b[0m: \"['STU_ID', 'STRAT_ID', 'PSU', 'F1UNIV1', 'F1UNIV2A', 'F1UNIV2B', 'G10COHRT', 'G12COHRT', 'BYSQSTAT', 'BYREGCTL', 'BYSTLNG2', 'F1QSTAT'] not found in axis\""
     ]
    }
   ],
   "source": [
    "# Remove specific columns\n",
    "columns_to_remove = [\"STU_ID\", \"STRAT_ID\", \"PSU\", \"F1UNIV1\", \"F1UNIV2A\", \"F1UNIV2B\", \"G10COHRT\", \"G12COHRT\", \"BYSQSTAT\", \"BYREGCTL\", \"BYSTLNG2\", \"F1QSTAT\"]\n",
    "df = df.drop(columns=columns_to_remove)"
   ]
  },
  {
   "cell_type": "markdown",
   "id": "183fba0b-07f7-4fdb-a503-585af9ecd776",
   "metadata": {},
   "source": [
    "9- Remove columns ending with \"WT\", \"IM\", or \"FLG\""
   ]
  },
  {
   "cell_type": "code",
   "execution_count": 30,
   "id": "b515f03b-2fce-455d-92ec-61e7a3ccdd30",
   "metadata": {},
   "outputs": [],
   "source": [
    "# Remove columns ending with \"WT\", \"IM\", or \"FLG\"\n",
    "df = df.filter(regex='^(?!.*(?:WT|IM|FLG)$)')"
   ]
  },
  {
   "cell_type": "markdown",
   "id": "d6848270-3eb3-4bb2-a085-efa607c30730",
   "metadata": {},
   "source": [
    "10- Filter rows where \"bygrdrpt\" is in (\"0\", \"1\", \"2\")"
   ]
  },
  {
   "cell_type": "code",
   "execution_count": 31,
   "id": "3a4844e0-acd1-48a5-a788-43efcf1500bc",
   "metadata": {},
   "outputs": [],
   "source": [
    "# Create a boolean mask indicating rows where BYGRDRPT is in \"0\", \"1\", or \"2\"\n",
    "df = df[df['BYGRDRPT'].isin([0, 1, 2])]"
   ]
  },
  {
   "cell_type": "markdown",
   "id": "5f900b49-e913-438a-b217-2d5cc63ec39c",
   "metadata": {},
   "source": [
    "11- Remove vars with missing values"
   ]
  },
  {
   "cell_type": "code",
   "execution_count": 34,
   "id": "6a5900a7-cd27-4ecb-ac53-2f5b01c8333b",
   "metadata": {},
   "outputs": [],
   "source": [
    "# Remove variables (columns) with missing values\n",
    "df = df.dropna(axis=1)"
   ]
  },
  {
   "cell_type": "code",
   "execution_count": 217,
   "id": "ce8fa99c-0b2b-4a4d-832a-ec38ce1a58e9",
   "metadata": {},
   "outputs": [],
   "source": [
    "def clean_columns(df):\n",
    "    # Calculate the percentage of missing values for each column\n",
    "    missing_percentages = (df.isnull().sum() / len(df)) * 100\n",
    "    \n",
    "    # Find columns with 20% or more missing values\n",
    "    columns_with_high_missing_values = missing_percentages[missing_percentages >= 5]\n",
    "\n",
    "    # Print columns with their respective percentages of missing values\n",
    "    if not columns_with_high_missing_values.empty:\n",
    "        print(\"Columns with 20% or more missing values:\")\n",
    "        for column, percentage in columns_with_high_missing_values.items():\n",
    "            print(f\"{column}: {percentage:.2f}%\")\n",
    "    else:\n",
    "        print(\"No columns have 20% or more missing values.\")\n",
    "    \n",
    "    # Remove columns with 20% or more missing values\n",
    "    cleaned_df = df.drop(columns=columns_with_high_missing_values.index)\n",
    "    \n",
    "    # Print information about removed columns\n",
    "    num_removed_columns = len(columns_with_high_missing_values)\n",
    "    print(f\"{num_removed_columns} columns removed due to 20% or more missing values.\")\n",
    "    \n",
    "    # Now you can use 'cleaned_df' for further analysis or processing\n",
    "    return cleaned_df"
   ]
  },
  {
   "cell_type": "code",
   "execution_count": 218,
   "id": "9c0a73ea-fb8b-4e62-88c4-38add4d2284c",
   "metadata": {
    "scrolled": true
   },
   "outputs": [
    {
     "name": "stdout",
     "output_type": "stream",
     "text": [
      "Columns with 20% or more missing values:\n",
      "BYSEX: 6.02%\n",
      "BYRACE: 6.84%\n",
      "BYSTLANG: 6.84%\n",
      "BYHOMLNG: 8.81%\n",
      "BYDOB_P: 7.14%\n",
      "BYPARACE: 7.41%\n",
      "BYPARLNG: 7.12%\n",
      "BYPLANG: 6.93%\n",
      "BYFCOMP: 6.27%\n",
      "BYSIBSTR: 7.90%\n",
      "BYSIBHOM: 8.63%\n",
      "BYGNSTAT: 7.22%\n",
      "BYPARED: 6.30%\n",
      "BYMOTHED: 6.32%\n",
      "BYFATHED: 6.45%\n",
      "BYOCCUM: 6.28%\n",
      "BYOCCUF: 6.43%\n",
      "BYSES1QU: 6.84%\n",
      "BYSES2QU: 6.84%\n",
      "BYNONUSG: 7.03%\n",
      "BYRISKFC: 9.65%\n",
      "BYQXDATP: 6.84%\n",
      "BYTXSTAT: 6.84%\n",
      "BYTXPAFG: 6.84%\n",
      "BYXTRACU: 8.42%\n",
      "BY10FLP: 8.25%\n",
      "F1STEXP: 5.56%\n",
      "F1QMODE: 5.56%\n",
      "F1QXDATP: 5.56%\n",
      "F1HIMATH: 6.29%\n",
      "F1PSEPLN: 9.58%\n",
      "F1XTRACU: 9.63%\n",
      "F1WRKHRS: 7.32%\n",
      "F1COMPHR: 7.65%\n",
      "F1RHTUNP: 7.83%\n",
      "F1RMAT_P: 7.83%\n",
      "F1RTRCC: 7.83%\n",
      "F1RGPP2: 7.90%\n",
      "BYS14: 7.21%\n",
      "BYS15: 8.07%\n",
      "BYS34B: 9.26%\n",
      "BYS37: 8.34%\n",
      "BYS41A: 8.73%\n",
      "BYS41B: 8.75%\n",
      "BYS41C: 9.04%\n",
      "BYS41D: 8.83%\n",
      "BYS41E: 8.94%\n",
      "BYS41F: 9.07%\n",
      "BYS41G: 9.07%\n",
      "BYS41H: 9.07%\n",
      "BYS41I: 9.28%\n",
      "BYS67: 8.57%\n",
      "F1S15: 9.72%\n",
      "F1S16A: 7.30%\n",
      "F1S16B: 7.44%\n",
      "F1S16C: 6.84%\n",
      "F1S16D: 7.84%\n",
      "F1S16E: 7.62%\n",
      "F1S16F: 7.15%\n",
      "F1S16G: 8.14%\n",
      "F1S16H: 7.34%\n",
      "F1S16I: 8.35%\n",
      "F1S17A: 7.46%\n",
      "F1S17B: 7.49%\n",
      "F1S17C: 6.82%\n",
      "F1S17D: 6.74%\n",
      "F1S17E: 7.02%\n",
      "F1S17F: 7.59%\n",
      "F1S17G: 7.50%\n",
      "F1S17H: 7.99%\n",
      "F1S17I: 8.11%\n",
      "F1S17J: 8.27%\n",
      "F1S30E: 6.80%\n",
      "F1S30F: 6.75%\n",
      "F1S30G: 7.00%\n",
      "F1S30H: 6.87%\n",
      "F1S30I: 6.83%\n",
      "F1S33: 5.96%\n",
      "F1S34A: 7.27%\n",
      "F1S34B: 7.67%\n",
      "F1S35A: 6.88%\n",
      "F1S35B: 7.54%\n",
      "F1S36B: 7.25%\n",
      "F1S37A: 6.14%\n",
      "F1S37D: 6.85%\n",
      "F1S37E: 6.56%\n",
      "F1S37F: 6.44%\n",
      "F1S39A: 6.04%\n",
      "F1S39B: 6.14%\n",
      "F1S39C: 6.82%\n",
      "F1S39D: 6.32%\n",
      "F1S39E: 7.00%\n",
      "F1S39F: 6.62%\n",
      "F1S39G: 6.62%\n",
      "F1S39H: 6.80%\n",
      "F1S39I: 6.26%\n",
      "F1S40A: 6.11%\n",
      "F1S40B: 6.12%\n",
      "F1S40C: 6.13%\n",
      "F1S40D: 6.26%\n",
      "F1S40E: 6.43%\n",
      "F1S40F: 6.47%\n",
      "F1S40G: 6.46%\n",
      "F1S40H: 6.64%\n",
      "F1S40I: 6.70%\n",
      "F1S40J: 6.61%\n",
      "F1S40K: 6.43%\n",
      "F1S40L: 6.35%\n",
      "F1S40M: 6.40%\n",
      "F1S40N: 6.36%\n",
      "F1S40O: 6.59%\n",
      "F1S40P: 6.62%\n",
      "F1S40Q: 6.65%\n",
      "F1S40R: 6.80%\n",
      "F1S42: 6.10%\n",
      "F1S43A: 8.79%\n",
      "F1S62: 6.68%\n",
      "F1S65A: 6.87%\n",
      "F1S65B: 7.45%\n",
      "F1S65C: 7.77%\n",
      "F1S65D: 7.43%\n",
      "BYP01: 6.27%\n",
      "BYP05: 6.58%\n",
      "BYP06: 6.86%\n",
      "BYP07A: 7.86%\n",
      "BYP07B: 7.88%\n",
      "BYP07C: 7.88%\n",
      "BYP07D: 7.84%\n",
      "BYP07E: 7.86%\n",
      "BYP07F: 7.85%\n",
      "BYP07G: 7.85%\n",
      "BYP07H: 7.85%\n",
      "BYP07I: 7.85%\n",
      "BYP07J: 7.84%\n",
      "BYP07K: 7.85%\n",
      "BYP07L: 7.84%\n",
      "BYP08: 7.59%\n",
      "BYP10: 6.62%\n",
      "BYP11: 7.57%\n",
      "BYP13: 7.23%\n",
      "BYP17: 7.28%\n",
      "BYP20: 8.08%\n",
      "BYP23: 6.60%\n",
      "BYP25: 6.93%\n",
      "BYP28: 6.93%\n",
      "BYP33: 9.01%\n",
      "BYP34A: 7.62%\n",
      "BYP36: 7.00%\n",
      "BYP38: 6.61%\n",
      "BYP44B: 8.67%\n",
      "BYP45: 7.28%\n",
      "BYP46: 6.34%\n",
      "BYP49: 7.18%\n",
      "BYP51: 7.01%\n",
      "BYP52A: 7.61%\n",
      "BYP52B: 9.18%\n",
      "BYP52C: 8.92%\n",
      "BYP52D: 8.94%\n",
      "BYP52E: 8.17%\n",
      "BYP52F: 8.35%\n",
      "BYP52G: 8.52%\n",
      "BYP52H: 8.19%\n",
      "BYP52I: 8.43%\n",
      "BYP52J: 8.40%\n",
      "BYP53A: 8.98%\n",
      "BYP53B: 9.79%\n",
      "BYP53D: 9.83%\n",
      "BYP53E: 9.60%\n",
      "BYP53H: 9.57%\n",
      "BYP53I: 9.70%\n",
      "BYP53J: 9.64%\n",
      "BYP54A: 8.36%\n",
      "BYP54B: 8.17%\n",
      "BYP54C: 8.93%\n",
      "BYP54D: 8.72%\n",
      "BYP54E: 8.08%\n",
      "BYP55A: 7.44%\n",
      "BYP55B: 7.33%\n",
      "BYP55C: 7.57%\n",
      "BYP55D: 7.64%\n",
      "BYP56A: 7.43%\n",
      "BYP56B: 7.78%\n",
      "BYP56C: 8.15%\n",
      "BYP56D: 8.07%\n",
      "BYP56E: 8.01%\n",
      "BYP56F: 7.66%\n",
      "BYP57A: 7.29%\n",
      "BYP57B: 7.27%\n",
      "BYP57C: 7.78%\n",
      "BYP57D: 7.56%\n",
      "BYP57E: 7.85%\n",
      "BYP57F: 7.39%\n",
      "BYP57G: 7.42%\n",
      "BYP57H: 7.66%\n",
      "BYP57I: 7.35%\n",
      "BYP57J: 7.45%\n",
      "BYP57K: 7.47%\n",
      "BYP57L: 7.48%\n",
      "BYP58A: 7.65%\n",
      "BYP58B: 8.58%\n",
      "BYP60A: 8.85%\n",
      "BYP60B: 9.04%\n",
      "BYP60C: 9.17%\n",
      "BYP60D: 9.28%\n",
      "BYP61: 8.13%\n",
      "BYP65: 7.48%\n",
      "BYP66: 8.07%\n",
      "BYP67: 7.94%\n",
      "BYP68: 7.78%\n",
      "BYP69A: 8.01%\n",
      "BYP69B: 7.94%\n",
      "BYP69C: 8.13%\n",
      "BYP69D: 8.20%\n",
      "BYP70: 7.21%\n",
      "BYP71: 6.94%\n",
      "BYP73: 7.59%\n",
      "BYP77C: 9.82%\n",
      "BYP78: 7.60%\n",
      "BYP79: 8.16%\n",
      "BYP81: 8.45%\n",
      "BYP99: 6.27%\n",
      "BYFTTP: 6.27%\n",
      "BYA14E: 7.97%\n",
      "BYA20: 6.19%\n",
      "BYA22B: 9.32%\n",
      "BYA24A: 5.17%\n",
      "BYL01: 6.31%\n",
      "BYL02: 8.43%\n",
      "BYL03A: 6.31%\n",
      "BYL03B: 6.74%\n",
      "BYL03C: 6.59%\n",
      "BYL03D: 6.34%\n",
      "BYL03E: 6.34%\n",
      "BYL03F: 6.46%\n",
      "BYL04: 6.03%\n",
      "BYL05: 9.38%\n",
      "BYL06AA: 6.84%\n",
      "BYL06DA: 7.03%\n",
      "BYL07: 6.65%\n",
      "BYL09: 6.93%\n",
      "BYL11AA: 6.54%\n",
      "BYL11BA: 6.87%\n",
      "BYL11CA: 6.90%\n",
      "BYL11DA: 8.46%\n",
      "BYL11EA: 8.38%\n",
      "BYL11FA: 8.19%\n",
      "BYL11GA: 7.37%\n",
      "BYL11HA: 7.59%\n",
      "BYL11IA: 7.65%\n",
      "BYL11JA: 6.56%\n",
      "BYL11KA: 6.54%\n",
      "BYL11LA: 7.36%\n",
      "BYL11MA: 8.13%\n",
      "BYL11NA: 7.42%\n",
      "BYL11OA: 8.63%\n",
      "BYL11PA: 6.61%\n",
      "BYL11QA: 7.20%\n",
      "BYL11RA: 6.93%\n",
      "BYL11SA: 6.90%\n",
      "BYL11TA: 7.17%\n",
      "BYL12A: 6.66%\n",
      "BYL12B: 7.11%\n",
      "BYL12C: 6.76%\n",
      "BYL12D: 7.10%\n",
      "BYL12E: 6.82%\n",
      "BYL12F: 6.56%\n",
      "BYL12G: 7.03%\n",
      "BYL12H: 7.21%\n",
      "BYL12I: 6.96%\n",
      "BYL12J: 6.84%\n",
      "BYL13: 7.88%\n",
      "BYL14A: 6.76%\n",
      "BYL14B: 6.66%\n",
      "BYL14C: 6.88%\n",
      "BYL14D: 6.97%\n",
      "BYL14E: 6.81%\n",
      "BYL15: 8.41%\n",
      "BYL16A: 6.71%\n",
      "BYL16B: 9.36%\n",
      "BYL16C: 7.02%\n",
      "BYL16D: 8.47%\n",
      "BYL17: 7.57%\n",
      "BYL19: 9.63%\n",
      "BYL20: 6.89%\n",
      "BYL22B: 9.18%\n",
      "BYL23: 7.07%\n",
      "BYL24: 6.55%\n",
      "BYL25: 8.88%\n",
      "BYL26: 6.63%\n",
      "BYL27A: 6.38%\n",
      "BYL27B: 6.38%\n",
      "BYL27C: 6.38%\n",
      "BYL27D: 6.38%\n",
      "BYL27E: 6.38%\n",
      "BYL27F: 6.38%\n",
      "BYL27G: 6.38%\n",
      "BYL28: 7.37%\n",
      "BYL29: 6.13%\n",
      "BYL30A: 9.42%\n",
      "BYL31A: 6.34%\n",
      "BYL31B: 6.34%\n",
      "BYL31C: 6.34%\n",
      "BYL31D: 6.34%\n",
      "BYL32: 6.98%\n",
      "BYL34: 7.39%\n",
      "BYL35: 5.48%\n",
      "BYF02: 5.38%\n",
      "307 columns removed due to 20% or more missing values.\n"
     ]
    }
   ],
   "source": [
    "df = clean_columns(df)"
   ]
  },
  {
   "cell_type": "markdown",
   "id": "bfa27e34-0502-42de-b58c-f98946b47dd5",
   "metadata": {},
   "source": [
    "12- Remove rows where income category \"BYINCOME\" is None"
   ]
  },
  {
   "cell_type": "code",
   "execution_count": 36,
   "id": "a3ffc29d-babe-4aa2-8192-f9bfe9a66918",
   "metadata": {},
   "outputs": [],
   "source": [
    "df = df[~df['BYINCOME'].isin([1])]"
   ]
  },
  {
   "cell_type": "markdown",
   "id": "971dbb29-8602-4c08-a573-86579c18174c",
   "metadata": {},
   "source": [
    "13- Remove vars \"BYURBAN\" and \"BYREGION\" because they are mix together in \"BYREGURB\""
   ]
  },
  {
   "cell_type": "code",
   "execution_count": 37,
   "id": "b2e6c4af-c47e-4426-9586-49041a1c18fe",
   "metadata": {
    "scrolled": true
   },
   "outputs": [],
   "source": [
    "df.drop(columns=['BYURBAN'], inplace=True)\n",
    "df.drop(columns=['BYREGION'], inplace=True)"
   ]
  },
  {
   "cell_type": "markdown",
   "id": "588416d7-50c4-44d4-a37b-46eda8dade47",
   "metadata": {},
   "source": [
    "14- Remove parent's highest education \"F1PARED\" because we have a variable for mother's highest education \"F1MOTHED\" and one for father's highest education \"F1FATHED\""
   ]
  },
  {
   "cell_type": "code",
   "execution_count": 38,
   "id": "065d399a-1445-400c-ae70-24b7138480ce",
   "metadata": {},
   "outputs": [],
   "source": [
    "df.drop(columns=['F1PARED'], inplace=True)"
   ]
  },
  {
   "cell_type": "markdown",
   "id": "f4265e70-193a-4e96-a42e-4c255963ce6a",
   "metadata": {},
   "source": [
    "RESULTING DATASET"
   ]
  },
  {
   "cell_type": "code",
   "execution_count": 39,
   "id": "f960f8cc-304e-412b-b430-fb985263c1fe",
   "metadata": {},
   "outputs": [
    {
     "name": "stdout",
     "output_type": "stream",
     "text": [
      "Number of rows: 13119\n",
      "Number of columns: 14\n"
     ]
    }
   ],
   "source": [
    "# Number of rows and columns in the DataFrame\n",
    "num_rows, num_columns = df.shape\n",
    "\n",
    "print(f\"Number of rows: {num_rows}\")\n",
    "print(f\"Number of columns: {num_columns}\")"
   ]
  },
  {
   "cell_type": "code",
   "execution_count": 40,
   "id": "6faf5aba-07d7-4bac-9730-2bb36161fcde",
   "metadata": {},
   "outputs": [
    {
     "data": {
      "text/plain": [
       "Index(['BYINCOME', 'BYGRDRPT', 'BYG10EP', 'BYSCTRL', 'BYREGURB', 'F1SEX',\n",
       "       'F1RACE', 'F1STLANG', 'F1FCOMP', 'F1MOTHED', 'F1FATHED', 'F1OCCUM',\n",
       "       'F1OCCUF', 'F1EVERDO'],\n",
       "      dtype='object')"
      ]
     },
     "execution_count": 40,
     "metadata": {},
     "output_type": "execute_result"
    }
   ],
   "source": [
    "df.columns"
   ]
  },
  {
   "cell_type": "markdown",
   "id": "8c753604-ef13-4eee-9178-af2fccc93230",
   "metadata": {},
   "source": [
    "SAVE DATASET TO CSV FILE"
   ]
  },
  {
   "cell_type": "code",
   "execution_count": 152,
   "id": "001fe3a2-286f-4a67-8484-550828204b23",
   "metadata": {},
   "outputs": [
    {
     "name": "stdout",
     "output_type": "stream",
     "text": [
      "DataFrame saved to output.csv\n"
     ]
    }
   ],
   "source": [
    "try:\n",
    "    # Save the DataFrame to a CSV file\n",
    "    df.to_csv('data/cleaned_els_02_12_byf3pststu_v1_0.csv', index=False)\n",
    "    print(\"DataFrame saved to output.csv\")\n",
    "except Exception as e:\n",
    "    print(\"An error occurred:\", e)"
   ]
  },
  {
   "cell_type": "markdown",
   "id": "a047b070-f302-46b5-bcd3-a394a317bb11",
   "metadata": {},
   "source": [
    "DISPLAY HISTOGRAMS"
   ]
  },
  {
   "cell_type": "code",
   "execution_count": 172,
   "id": "4da44f2c-cd3e-439c-8406-de6af0e1b10c",
   "metadata": {},
   "outputs": [
    {
     "data": {
      "image/png": "[encoded data removed]",
      "text/plain": [
       "<Figure size 640x480 with 16 Axes>"
      ]
     },
     "metadata": {},
     "output_type": "display_data"
    }
   ],
   "source": [
    "df.hist(bins=20)  # Increase the number of bins for more space between bars\n",
    "plt.suptitle('Histograms of All Variables', x=0.5, y=1.10, ha='center', fontsize='large')\n",
    "plt.show()"
   ]
  }
 ],
 "metadata": {
  "kernelspec": {
   "display_name": "els",
   "language": "python",
   "name": "els"
  },
  "language_info": {
   "codemirror_mode": {
    "name": "ipython",
    "version": 3
   },
   "file_extension": ".py",
   "mimetype": "text/x-python",
   "name": "python",
   "nbconvert_exporter": "python",
   "pygments_lexer": "ipython3",
   "version": "3.12.2"
  }
 },
 "nbformat": 4,
 "nbformat_minor": 5
}
