{
 "cells": [
  {
   "cell_type": "markdown",
   "id": "b8c492df-3a19-4299-953a-e8a81036a708",
   "metadata": {},
   "source": [
    "Import Dependencies"
   ]
  },
  {
   "cell_type": "code",
   "execution_count": 44,
   "id": "6c24c66c-f214-4f98-98f8-9bffa5490dfb",
   "metadata": {},
   "outputs": [],
   "source": [
    "import pandas as pd"
   ]
  },
  {
   "cell_type": "markdown",
   "id": "ba44152c-38d8-4ddb-92d9-3e137ceb1806",
   "metadata": {},
   "source": [
    "Clean Columns Function"
   ]
  },
  {
   "cell_type": "code",
   "execution_count": 45,
   "id": "2a6ec911-5fba-4d0e-9bc5-8ad1b516004e",
   "metadata": {},
   "outputs": [],
   "source": [
    "def clean_columns(df):\n",
    "    # Calculate the percentage of missing values for each column\n",
    "    missing_percentages = (df.isnull().sum() / len(df)) * 100\n",
    "    \n",
    "    # Find columns with 25% or more missing values\n",
    "    columns_with_high_missing_values = missing_percentages[missing_percentages >= 25]\n",
    "\n",
    "    # Print columns with their respective percentages of missing values\n",
    "    if not columns_with_high_missing_values.empty:\n",
    "        print(\"Columns with 25% or more missing values:\")\n",
    "        for column, percentage in columns_with_high_missing_values.items():\n",
    "            print(f\"{column}: {percentage:.2f}%\")\n",
    "    else:\n",
    "        print(\"No columns have 25% or more missing values.\")\n",
    "    \n",
    "    # Remove columns with 25% or more missing values\n",
    "    cleaned_df = df.drop(columns=columns_with_high_missing_values.index)\n",
    "    \n",
    "    # Print information about removed columns\n",
    "    num_removed_columns = len(columns_with_high_missing_values)\n",
    "    print(f\"{num_removed_columns} columns removed due to 25% or more missing values.\")\n",
    "    \n",
    "    # Now you can use 'cleaned_df' for further analysis or processing\n",
    "    return cleaned_df\n"
   ]
  },
  {
   "cell_type": "markdown",
   "id": "3240ac39-8646-499d-926f-9b78715a480f",
   "metadata": {},
   "source": [
    "Clean Rows Function"
   ]
  },
  {
   "cell_type": "code",
   "execution_count": 46,
   "id": "70be4ff3-9452-479d-a928-c7820da64bce",
   "metadata": {},
   "outputs": [],
   "source": [
    "def clean_rows(df):\n",
    "    # Calculate the threshold for 25% missing values\n",
    "    threshold = 0.25 * df.shape[1]\n",
    "\n",
    "    # Remove rows with 25% or more missing values\n",
    "    cleaned_df = df.dropna(thresh=threshold)\n",
    "    \n",
    "    # Print information about removed rows\n",
    "    num_removed_rows = df.shape[0] - cleaned_df.shape[0]\n",
    "    print(f\"{num_removed_rows} rows removed due to 25% or more missing values.\")\n",
    "    \n",
    "    # Now you can use 'cleaned_df' for further analysis or processing\n",
    "    return cleaned_df\n"
   ]
  },
  {
   "cell_type": "markdown",
   "id": "f29fa73e-17de-40e9-a704-34781b53f67b",
   "metadata": {},
   "source": [
    "Remove Outliers Function"
   ]
  },
  {
   "cell_type": "code",
   "execution_count": 47,
   "id": "b3fa6183-c870-4530-9d39-bc36a5a8def2",
   "metadata": {},
   "outputs": [],
   "source": [
    "import numpy as np\n",
    "\n",
    "def remove_outliers_zscore(df, threshold=3):\n",
    "    \"\"\"\n",
    "    Remove outliers from a DataFrame using Z-score method.\n",
    "    \"\"\"\n",
    "    # Calculate Z-scores for each column\n",
    "    z_scores = np.abs((df - df.mean()) / df.std())\n",
    "\n",
    "    # Remove rows where any value's Z-score is greater than the threshold\n",
    "    cleaned_df = df[(z_scores < threshold).all(axis=1)]\n",
    "\n",
    "    # Calculate the number of removed values\n",
    "    num_removed_values = df.size - cleaned_df.size\n",
    "\n",
    "    print(f\"Before: {df.size}, After: {cleaned_df.size}, {num_removed_values} values removed due to outliers.\")\n",
    "\n",
    "    return cleaned_df"
   ]
  },
  {
   "cell_type": "markdown",
   "id": "99dd8305-08f4-4191-bcfd-3d67d254f471",
   "metadata": {},
   "source": [
    "BYF1 File"
   ]
  },
  {
   "cell_type": "code",
   "execution_count": 72,
   "id": "104a4e0e-4b93-46ef-8f39-21c2d637291f",
   "metadata": {},
   "outputs": [],
   "source": [
    "# Load the CSV file and Create DataFrame\n",
    "file_path = \"ELS_2002-12_PETS_v1_0_Other_CSV_Datasets/els_02_12_byf1sch_v1_0.csv\"  \n",
    "df = pd.read_csv(file_path)"
   ]
  },
  {
   "cell_type": "code",
   "execution_count": 49,
   "id": "1ee8dd73-12f8-4cba-9b9b-3c262d97b424",
   "metadata": {},
   "outputs": [
    {
     "name": "stdout",
     "output_type": "stream",
     "text": [
      "Number of rows: 1954\n",
      "Number of columns: 925\n"
     ]
    }
   ],
   "source": [
    "# Number of rows and columns in the DataFrame\n",
    "num_rows, num_columns = df.shape\n",
    "\n",
    "print(f\"Number of rows: {num_rows}\")\n",
    "print(f\"Number of columns: {num_columns}\")"
   ]
  },
  {
   "cell_type": "code",
   "execution_count": 50,
   "id": "89c21ede-e90a-4dfa-bef8-3a4a15cdbb73",
   "metadata": {},
   "outputs": [
    {
     "name": "stdout",
     "output_type": "stream",
     "text": [
      "Columns with 25% or more missing values:\n",
      "BYSCH1: 61.57%\n",
      "BYSCH2: 61.57%\n",
      "BYSCH3: 61.57%\n",
      "BYSCH4: 61.57%\n",
      "BYSCH5: 61.57%\n",
      "BYSCH6: 61.57%\n",
      "BYSCH7: 61.57%\n",
      "BYSCH8: 61.57%\n",
      "BYSCH9: 61.57%\n",
      "BYSCH10: 61.57%\n",
      "BYSCH11: 61.57%\n",
      "BYSCH12: 61.57%\n",
      "BYSCH13: 61.57%\n",
      "BYSCH14: 61.57%\n",
      "BYSCH15: 61.57%\n",
      "BYSCH16: 61.57%\n",
      "BYSCH17: 61.57%\n",
      "BYSCH18: 61.57%\n",
      "BYSCH19: 61.57%\n",
      "BYSCH20: 61.57%\n",
      "BYSCH21: 61.57%\n",
      "BYSCH22: 61.57%\n",
      "BYSCH23: 61.57%\n",
      "BYSCH24: 61.57%\n",
      "BYSCH25: 61.57%\n",
      "BYSCH26: 61.57%\n",
      "BYSCH27: 61.57%\n",
      "BYSCH28: 61.57%\n",
      "BYSCH29: 61.57%\n",
      "BYSCH30: 61.57%\n",
      "BYSCH31: 61.57%\n",
      "BYSCH32: 61.57%\n",
      "BYSCH33: 61.57%\n",
      "BYSCH34: 61.57%\n",
      "BYSCH35: 61.57%\n",
      "BYSCH36: 61.57%\n",
      "BYSCH37: 61.57%\n",
      "BYSCH38: 61.57%\n",
      "BYSCH39: 61.57%\n",
      "BYSCH40: 61.57%\n",
      "BYSCH41: 61.57%\n",
      "BYSCH42: 61.57%\n",
      "BYSCH43: 61.57%\n",
      "BYSCH44: 61.57%\n",
      "BYSCH45: 61.57%\n",
      "BYSCH46: 61.57%\n",
      "BYSCH47: 61.57%\n",
      "BYSCH48: 61.57%\n",
      "BYSCH49: 61.57%\n",
      "BYSCH50: 61.57%\n",
      "BYSCH51: 61.57%\n",
      "BYSCH52: 61.57%\n",
      "BYSCH53: 61.57%\n",
      "BYSCH54: 61.57%\n",
      "BYSCH55: 61.57%\n",
      "BYSCH56: 61.57%\n",
      "BYSCH57: 61.57%\n",
      "BYSCH58: 61.57%\n",
      "BYSCH59: 61.57%\n",
      "BYSCH60: 61.57%\n",
      "BYSCH61: 61.57%\n",
      "BYSCH62: 61.57%\n",
      "BYSCH63: 61.57%\n",
      "BYSCH64: 61.57%\n",
      "BYSCH65: 61.57%\n",
      "BYSCH66: 61.57%\n",
      "BYSCH67: 61.57%\n",
      "BYSCH68: 61.57%\n",
      "BYSCH69: 61.57%\n",
      "BYSCH70: 61.57%\n",
      "BYSCH71: 61.57%\n",
      "BYSCH72: 61.57%\n",
      "BYSCH73: 61.57%\n",
      "BYSCH74: 61.57%\n",
      "BYSCH75: 61.57%\n",
      "BYSCH76: 61.57%\n",
      "BYSCH77: 61.57%\n",
      "BYSCH78: 61.57%\n",
      "BYSCH79: 61.57%\n",
      "BYSCH80: 61.57%\n",
      "BYSCH81: 61.57%\n",
      "BYSCH82: 61.57%\n",
      "BYSCH83: 61.57%\n",
      "BYSCH84: 61.57%\n",
      "BYSCH85: 61.57%\n",
      "BYSCH86: 61.57%\n",
      "BYSCH87: 61.57%\n",
      "BYSCH88: 61.57%\n",
      "BYSCH89: 61.57%\n",
      "BYSCH90: 61.57%\n",
      "BYSCH91: 61.57%\n",
      "BYSCH92: 61.57%\n",
      "BYSCH93: 61.57%\n",
      "BYSCH94: 61.57%\n",
      "BYSCH95: 61.57%\n",
      "BYSCH96: 61.57%\n",
      "BYSCH97: 61.57%\n",
      "BYSCH98: 61.57%\n",
      "BYSCH99: 61.57%\n",
      "BYSCH100: 61.57%\n",
      "BYSCH101: 61.57%\n",
      "BYSCH102: 61.57%\n",
      "BYSCH103: 61.57%\n",
      "BYSCH104: 61.57%\n",
      "BYSCH105: 61.57%\n",
      "BYSCH106: 61.57%\n",
      "BYSCH107: 61.57%\n",
      "BYSCH108: 61.57%\n",
      "BYSCH109: 61.57%\n",
      "BYSCH110: 61.57%\n",
      "BYSCH111: 61.57%\n",
      "BYSCH112: 61.57%\n",
      "BYSCH113: 61.57%\n",
      "BYSCH114: 61.57%\n",
      "BYSCH115: 61.57%\n",
      "BYSCH116: 61.57%\n",
      "BYSCH117: 61.57%\n",
      "BYSCH118: 61.57%\n",
      "BYSCH119: 61.57%\n",
      "BYSCH120: 61.57%\n",
      "BYSCH121: 61.57%\n",
      "BYSCH122: 61.57%\n",
      "BYSCH123: 61.57%\n",
      "BYSCH124: 61.57%\n",
      "BYSCH125: 61.57%\n",
      "BYSCH126: 61.57%\n",
      "BYSCH127: 61.57%\n",
      "BYSCH128: 61.57%\n",
      "BYSCH129: 61.57%\n",
      "BYSCH130: 61.57%\n",
      "BYSCH131: 61.57%\n",
      "BYSCH132: 61.57%\n",
      "BYSCH133: 61.57%\n",
      "BYSCH134: 61.57%\n",
      "BYSCH135: 61.57%\n",
      "BYSCH136: 61.57%\n",
      "BYSCH137: 61.57%\n",
      "BYSCH138: 61.57%\n",
      "BYSCH139: 61.57%\n",
      "BYSCH140: 61.57%\n",
      "BYSCH141: 61.57%\n",
      "BYSCH142: 61.57%\n",
      "BYSCH143: 61.57%\n",
      "BYSCH144: 61.57%\n",
      "BYSCH145: 61.57%\n",
      "BYSCH146: 61.57%\n",
      "BYSCH147: 61.57%\n",
      "BYSCH148: 61.57%\n",
      "BYSCH149: 61.57%\n",
      "BYSCH150: 61.57%\n",
      "BYSCH151: 61.57%\n",
      "BYSCH152: 61.57%\n",
      "BYSCH153: 61.57%\n",
      "BYSCH154: 61.57%\n",
      "BYSCH155: 61.57%\n",
      "BYSCH156: 61.57%\n",
      "BYSCH157: 61.57%\n",
      "BYSCH158: 61.57%\n",
      "BYSCH159: 61.57%\n",
      "BYSCH160: 61.57%\n",
      "BYSCH161: 61.57%\n",
      "BYSCH162: 61.57%\n",
      "BYSCH163: 61.57%\n",
      "BYSCH164: 61.57%\n",
      "BYSCH165: 61.57%\n",
      "BYSCH166: 61.57%\n",
      "BYSCH167: 61.57%\n",
      "BYSCH168: 61.57%\n",
      "BYSCH169: 61.57%\n",
      "BYSCH170: 61.57%\n",
      "BYSCH171: 61.57%\n",
      "BYSCH172: 61.57%\n",
      "BYSCH173: 61.57%\n",
      "BYSCH174: 61.57%\n",
      "BYSCH175: 61.57%\n",
      "BYSCH176: 61.57%\n",
      "BYSCH177: 61.57%\n",
      "BYSCH178: 61.57%\n",
      "BYSCH179: 61.57%\n",
      "BYSCH180: 61.57%\n",
      "BYSCH181: 61.57%\n",
      "BYSCH182: 61.57%\n",
      "BYSCH183: 61.57%\n",
      "BYSCH184: 61.57%\n",
      "BYSCH185: 61.57%\n",
      "BYSCH186: 61.57%\n",
      "BYSCH187: 61.57%\n",
      "BYSCH188: 61.57%\n",
      "BYSCH189: 61.57%\n",
      "BYSCH190: 61.57%\n",
      "BYSCH191: 61.57%\n",
      "BYSCH192: 61.57%\n",
      "BYSCH193: 61.57%\n",
      "BYSCH194: 61.57%\n",
      "BYSCH195: 61.57%\n",
      "BYSCH196: 61.57%\n",
      "BYSCH197: 61.57%\n",
      "BYSCH198: 61.57%\n",
      "BYSCH199: 61.57%\n",
      "BYSCH200: 61.57%\n",
      "200 columns removed due to 25% or more missing values.\n"
     ]
    }
   ],
   "source": [
    "byf1_cleaned_df = clean_columns(df)"
   ]
  },
  {
   "cell_type": "code",
   "execution_count": 51,
   "id": "06fae761-92fc-4431-98ba-a0e36544bbf3",
   "metadata": {},
   "outputs": [
    {
     "name": "stdout",
     "output_type": "stream",
     "text": [
      "0 rows removed due to 25% or more missing values.\n"
     ]
    }
   ],
   "source": [
    "byf1_cleaned_df = clean_rows(byf1_cleaned_df)"
   ]
  },
  {
   "cell_type": "code",
   "execution_count": 52,
   "id": "38eab86b-e4d4-40e0-bf51-79bbeb5123ca",
   "metadata": {},
   "outputs": [
    {
     "name": "stdout",
     "output_type": "stream",
     "text": [
      "Before: 1416650, After: 914225, 502425 values removed due to outliers.\n"
     ]
    }
   ],
   "source": [
    "byf1_cleaned_df = remove_outliers_zscore(byf1_cleaned_df)"
   ]
  },
  {
   "cell_type": "markdown",
   "id": "4a7e9d93-b051-410d-9fff-1801d75f7f88",
   "metadata": {},
   "source": [
    "F2 File"
   ]
  },
  {
   "cell_type": "code",
   "execution_count": 69,
   "id": "03c3b700-51bf-4de1-ba49-a892eb37f789",
   "metadata": {},
   "outputs": [],
   "source": [
    "file_path = \"ELS_2002-12_PETS_v1_0_Other_CSV_Datasets/els_02_12_f2inst_v1_0.csv\"  \n",
    "df = pd.read_csv(file_path)"
   ]
  },
  {
   "cell_type": "code",
   "execution_count": 54,
   "id": "4e875318-5862-4fa1-b0af-d177caa0534d",
   "metadata": {},
   "outputs": [
    {
     "name": "stdout",
     "output_type": "stream",
     "text": [
      "Number of rows: 33495\n",
      "Number of columns: 49\n"
     ]
    }
   ],
   "source": [
    "# Number of rows and columns in the DataFrame\n",
    "num_rows, num_columns = df.shape\n",
    "\n",
    "print(f\"Number of rows: {num_rows}\")\n",
    "print(f\"Number of columns: {num_columns}\")"
   ]
  },
  {
   "cell_type": "code",
   "execution_count": 55,
   "id": "c7c42beb-69e6-4fd2-afac-ac39de9bb901",
   "metadata": {},
   "outputs": [
    {
     "name": "stdout",
     "output_type": "stream",
     "text": [
      "No columns have 25% or more missing values.\n",
      "0 columns removed due to 25% or more missing values.\n"
     ]
    }
   ],
   "source": [
    "f2_cleaned_df = clean_columns(df)"
   ]
  },
  {
   "cell_type": "code",
   "execution_count": 56,
   "id": "9ba4e110-60e8-42ba-be4c-bf3dd334a27c",
   "metadata": {},
   "outputs": [
    {
     "name": "stdout",
     "output_type": "stream",
     "text": [
      "0 rows removed due to 25% or more missing values.\n"
     ]
    }
   ],
   "source": [
    "f2_cleaned_df = clean_rows(df)"
   ]
  },
  {
   "cell_type": "code",
   "execution_count": 57,
   "id": "41402fc7-be8c-4578-8a17-ff7bdffe1b29",
   "metadata": {},
   "outputs": [
    {
     "name": "stdout",
     "output_type": "stream",
     "text": [
      "Before: 1641255, After: 1450547, 190708 values removed due to outliers.\n"
     ]
    }
   ],
   "source": [
    "f2_cleaned_df = remove_outliers_zscore(f2_cleaned_df)"
   ]
  },
  {
   "cell_type": "markdown",
   "id": "711bd631-ebac-481d-9b1b-02d173922503",
   "metadata": {},
   "source": [
    "F3 File"
   ]
  },
  {
   "cell_type": "code",
   "execution_count": 58,
   "id": "ba2fc64a-8e38-4f53-8995-473a7515190b",
   "metadata": {},
   "outputs": [],
   "source": [
    "file_path = \"ELS_2002-12_PETS_v1_0_Other_CSV_Datasets/els_02_12_f3inst_v1_0.csv\"  \n",
    "df = pd.read_csv(file_path)"
   ]
  },
  {
   "cell_type": "code",
   "execution_count": 59,
   "id": "24f8989a-e0fa-46ba-9001-c728439736bb",
   "metadata": {},
   "outputs": [
    {
     "name": "stdout",
     "output_type": "stream",
     "text": [
      "Number of rows: 20951\n",
      "Number of columns: 41\n"
     ]
    }
   ],
   "source": [
    "# Number of rows and columns in the DataFrame\n",
    "num_rows, num_columns = df.shape\n",
    "\n",
    "print(f\"Number of rows: {num_rows}\")\n",
    "print(f\"Number of columns: {num_columns}\")"
   ]
  },
  {
   "cell_type": "code",
   "execution_count": 60,
   "id": "2eb3b4cf-ac66-4842-849a-7027ba4beb8a",
   "metadata": {},
   "outputs": [
    {
     "name": "stdout",
     "output_type": "stream",
     "text": [
      "No columns have 25% or more missing values.\n",
      "0 columns removed due to 25% or more missing values.\n"
     ]
    }
   ],
   "source": [
    "f3_cleaned_df = clean_columns(df)"
   ]
  },
  {
   "cell_type": "code",
   "execution_count": 61,
   "id": "fcd9ca6c-cc8f-44da-8cfd-db096d23f530",
   "metadata": {},
   "outputs": [
    {
     "name": "stdout",
     "output_type": "stream",
     "text": [
      "0 rows removed due to 25% or more missing values.\n"
     ]
    }
   ],
   "source": [
    "f3_cleaned_df = clean_rows(df)"
   ]
  },
  {
   "cell_type": "code",
   "execution_count": 62,
   "id": "0a18beb3-b8e0-4fb7-97a3-bf2a1066ae8e",
   "metadata": {},
   "outputs": [],
   "source": [
    "#f3_cleaned_df = remove_outliers_zscore(f3_cleaned_df)\n",
    "# it removes all values"
   ]
  },
  {
   "cell_type": "markdown",
   "id": "eb4f864f-88a2-462b-99cd-1b62f6a49bb1",
   "metadata": {},
   "source": [
    "Save Cleaned Datasets in CSV format"
   ]
  },
  {
   "cell_type": "code",
   "execution_count": 63,
   "id": "734835eb-6a74-4fd9-8758-a1a90125ac11",
   "metadata": {},
   "outputs": [],
   "source": [
    "byf1_cleaned_file_path = \"Cleaned_ELS_Datasets/els_02_12_byf1sch_v1_0.csv\"\n",
    "byf1_cleaned_df.to_csv(byf1_cleaned_file_path, index=False)"
   ]
  },
  {
   "cell_type": "code",
   "execution_count": 64,
   "id": "5850d7fe-708e-41d9-8718-92d9f4b7e3fe",
   "metadata": {},
   "outputs": [],
   "source": [
    "f2_cleaned_file_path = \"Cleaned_ELS_Datasets/els_02_12_f2inst_v1_0.csv\"\n",
    "f2_cleaned_df.to_csv(f2_cleaned_file_path, index=False)"
   ]
  },
  {
   "cell_type": "code",
   "execution_count": 65,
   "id": "4cd354d1-c701-4ccb-b970-69044bf94408",
   "metadata": {},
   "outputs": [],
   "source": [
    "f3_cleaned_file_path = \"Cleaned_ELS_Datasets/els_02_12_f3inst_v1_0.csv\"\n",
    "f3_cleaned_df.to_csv(f3_cleaned_file_path, index=False)"
   ]
  },
  {
   "cell_type": "code",
   "execution_count": null,
   "id": "2de19742-e457-4107-ad31-59b6d066ccc0",
   "metadata": {},
   "outputs": [],
   "source": []
  },
  {
   "cell_type": "code",
   "execution_count": 66,
   "id": "b60c60c7-f456-43f2-bcb5-c5eadf8968ea",
   "metadata": {},
   "outputs": [],
   "source": [
    "def variable_exists(df, variable_name):\n",
    "    exists = variable_name in df.columns\n",
    "    return exists"
   ]
  },
  {
   "cell_type": "code",
   "execution_count": null,
   "id": "305a0778-cd16-490e-8b12-c9fc077eb2f9",
   "metadata": {},
   "outputs": [],
   "source": []
  }
 ],
 "metadata": {
  "kernelspec": {
   "display_name": "els",
   "language": "python",
   "name": "els"
  },
  "language_info": {
   "codemirror_mode": {
    "name": "ipython",
    "version": 3
   },
   "file_extension": ".py",
   "mimetype": "text/x-python",
   "name": "python",
   "nbconvert_exporter": "python",
   "pygments_lexer": "ipython3",
   "version": "3.12.2"
  }
 },
 "nbformat": 4,
 "nbformat_minor": 5
}
